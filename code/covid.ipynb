{
 "cells": [
  {
   "cell_type": "markdown",
   "id": "e9c39e16",
   "metadata": {},
   "source": [
    "# Libraries"
   ]
  },
  {
   "cell_type": "code",
   "execution_count": 20,
   "id": "7526f5f9",
   "metadata": {},
   "outputs": [],
   "source": [
    "from tensorflow.keras.layers import Input, Lambda, Dense, Flatten,Conv2D\n",
    "from tensorflow.keras.models import Model\n",
    "from tensorflow.keras.applications.vgg19 import VGG19\n",
    "from tensorflow.keras.applications.resnet50 import preprocess_input\n",
    "from tensorflow.keras.preprocessing import image\n",
    "from tensorflow.keras.preprocessing.image import ImageDataGenerator,load_img\n",
    "from tensorflow.keras.models import Sequential\n",
    "import numpy as np\n",
    "from glob import glob\n",
    "import matplotlib.pyplot as plt"
   ]
  },
  {
   "cell_type": "code",
   "execution_count": 35,
   "id": "05d441b8",
   "metadata": {},
   "outputs": [
    {
     "data": {
      "text/plain": [
       "'2.8.0'"
      ]
     },
     "execution_count": 35,
     "metadata": {},
     "output_type": "execute_result"
    }
   ],
   "source": [
    "import tensorflow as tf\n",
    "tf.__version__"
   ]
  },
  {
   "cell_type": "code",
   "execution_count": 36,
   "id": "af8fc796",
   "metadata": {},
   "outputs": [],
   "source": [
    "IMAGE_SIZE = [224, 224]\n",
    "\n",
    "train_path = 'PycharmProjects/train/covid'\n",
    "valid_path = 'PycharmProjects/train/normal'"
   ]
  },
  {
   "cell_type": "code",
   "execution_count": 37,
   "id": "2d60ad62",
   "metadata": {},
   "outputs": [
    {
     "name": "stdout",
     "output_type": "stream",
     "text": [
      "Downloading data from https://storage.googleapis.com/tensorflow/keras-applications/vgg19/vgg19_weights_tf_dim_ordering_tf_kernels_notop.h5\n",
      "80142336/80134624 [==============================] - 153s 2us/step\n",
      "80150528/80134624 [==============================] - 153s 2us/step\n"
     ]
    }
   ],
   "source": [
    "mobilnet = VGG19(input_shape=IMAGE_SIZE + [3], weights='imagenet', include_top=False)"
   ]
  },
  {
   "cell_type": "code",
   "execution_count": 43,
   "id": "863fab68",
   "metadata": {},
   "outputs": [
    {
     "data": {
      "text/plain": [
       "<keras.engine.functional.Functional at 0x217bc8a8430>"
      ]
     },
     "execution_count": 43,
     "metadata": {},
     "output_type": "execute_result"
    }
   ],
   "source": [
    "mobilnet"
   ]
  },
  {
   "cell_type": "code",
   "execution_count": 45,
   "id": "a7122714",
   "metadata": {},
   "outputs": [],
   "source": [
    "for layer in mobilnet.layers:\n",
    "    layer.trainable = False"
   ]
  },
  {
   "cell_type": "code",
   "execution_count": 51,
   "id": "9c655a95",
   "metadata": {},
   "outputs": [],
   "source": [
    "folders = glob('PycharmProjects/train/*')"
   ]
  },
  {
   "cell_type": "code",
   "execution_count": 52,
   "id": "32d71793",
   "metadata": {},
   "outputs": [
    {
     "data": {
      "text/plain": [
       "['PycharmProjects/train\\\\covid', 'PycharmProjects/train\\\\normal']"
      ]
     },
     "execution_count": 52,
     "metadata": {},
     "output_type": "execute_result"
    }
   ],
   "source": [
    "folders"
   ]
  },
  {
   "cell_type": "code",
   "execution_count": 53,
   "id": "1a83556a",
   "metadata": {},
   "outputs": [],
   "source": [
    "x = Flatten()(mobilnet.output)"
   ]
  },
  {
   "cell_type": "code",
   "execution_count": 54,
   "id": "74d7b8ae",
   "metadata": {},
   "outputs": [],
   "source": [
    "prediction = Dense(len(folders), activation='softmax')(x)\n",
    "\n",
    "# create a model object\n",
    "model = Model(inputs=mobilnet.input, outputs=prediction)"
   ]
  },
  {
   "cell_type": "code",
   "execution_count": 55,
   "id": "c6e3c4f2",
   "metadata": {},
   "outputs": [
    {
     "name": "stdout",
     "output_type": "stream",
     "text": [
      "Model: \"model\"\n",
      "_________________________________________________________________\n",
      " Layer (type)                Output Shape              Param #   \n",
      "=================================================================\n",
      " input_4 (InputLayer)        [(None, 224, 224, 3)]     0         \n",
      "                                                                 \n",
      " block1_conv1 (Conv2D)       (None, 224, 224, 64)      1792      \n",
      "                                                                 \n",
      " block1_conv2 (Conv2D)       (None, 224, 224, 64)      36928     \n",
      "                                                                 \n",
      " block1_pool (MaxPooling2D)  (None, 112, 112, 64)      0         \n",
      "                                                                 \n",
      " block2_conv1 (Conv2D)       (None, 112, 112, 128)     73856     \n",
      "                                                                 \n",
      " block2_conv2 (Conv2D)       (None, 112, 112, 128)     147584    \n",
      "                                                                 \n",
      " block2_pool (MaxPooling2D)  (None, 56, 56, 128)       0         \n",
      "                                                                 \n",
      " block3_conv1 (Conv2D)       (None, 56, 56, 256)       295168    \n",
      "                                                                 \n",
      " block3_conv2 (Conv2D)       (None, 56, 56, 256)       590080    \n",
      "                                                                 \n",
      " block3_conv3 (Conv2D)       (None, 56, 56, 256)       590080    \n",
      "                                                                 \n",
      " block3_conv4 (Conv2D)       (None, 56, 56, 256)       590080    \n",
      "                                                                 \n",
      " block3_pool (MaxPooling2D)  (None, 28, 28, 256)       0         \n",
      "                                                                 \n",
      " block4_conv1 (Conv2D)       (None, 28, 28, 512)       1180160   \n",
      "                                                                 \n",
      " block4_conv2 (Conv2D)       (None, 28, 28, 512)       2359808   \n",
      "                                                                 \n",
      " block4_conv3 (Conv2D)       (None, 28, 28, 512)       2359808   \n",
      "                                                                 \n",
      " block4_conv4 (Conv2D)       (None, 28, 28, 512)       2359808   \n",
      "                                                                 \n",
      " block4_pool (MaxPooling2D)  (None, 14, 14, 512)       0         \n",
      "                                                                 \n",
      " block5_conv1 (Conv2D)       (None, 14, 14, 512)       2359808   \n",
      "                                                                 \n",
      " block5_conv2 (Conv2D)       (None, 14, 14, 512)       2359808   \n",
      "                                                                 \n",
      " block5_conv3 (Conv2D)       (None, 14, 14, 512)       2359808   \n",
      "                                                                 \n",
      " block5_conv4 (Conv2D)       (None, 14, 14, 512)       2359808   \n",
      "                                                                 \n",
      " block5_pool (MaxPooling2D)  (None, 7, 7, 512)         0         \n",
      "                                                                 \n",
      " flatten (Flatten)           (None, 25088)             0         \n",
      "                                                                 \n",
      " dense (Dense)               (None, 2)                 50178     \n",
      "                                                                 \n",
      "=================================================================\n",
      "Total params: 20,074,562\n",
      "Trainable params: 50,178\n",
      "Non-trainable params: 20,024,384\n",
      "_________________________________________________________________\n"
     ]
    }
   ],
   "source": [
    "model.summary()"
   ]
  },
  {
   "cell_type": "code",
   "execution_count": 56,
   "id": "0caf5750",
   "metadata": {},
   "outputs": [],
   "source": [
    "from tensorflow.keras.layers import MaxPooling2D\n"
   ]
  },
  {
   "cell_type": "code",
   "execution_count": 57,
   "id": "6a98882e",
   "metadata": {},
   "outputs": [
    {
     "name": "stdout",
     "output_type": "stream",
     "text": [
      "Model: \"sequential\"\n",
      "_________________________________________________________________\n",
      " Layer (type)                Output Shape              Param #   \n",
      "=================================================================\n",
      " conv2d (Conv2D)             (None, 224, 224, 16)      208       \n",
      "                                                                 \n",
      " max_pooling2d (MaxPooling2D  (None, 112, 112, 16)     0         \n",
      " )                                                               \n",
      "                                                                 \n",
      " conv2d_1 (Conv2D)           (None, 112, 112, 32)      2080      \n",
      "                                                                 \n",
      " max_pooling2d_1 (MaxPooling  (None, 56, 56, 32)       0         \n",
      " 2D)                                                             \n",
      "                                                                 \n",
      " conv2d_2 (Conv2D)           (None, 56, 56, 64)        8256      \n",
      "                                                                 \n",
      " max_pooling2d_2 (MaxPooling  (None, 28, 28, 64)       0         \n",
      " 2D)                                                             \n",
      "                                                                 \n",
      " flatten_1 (Flatten)         (None, 50176)             0         \n",
      "                                                                 \n",
      " dense_1 (Dense)             (None, 500)               25088500  \n",
      "                                                                 \n",
      " dense_2 (Dense)             (None, 2)                 1002      \n",
      "                                                                 \n",
      "=================================================================\n",
      "Total params: 25,100,046\n",
      "Trainable params: 25,100,046\n",
      "Non-trainable params: 0\n",
      "_________________________________________________________________\n"
     ]
    }
   ],
   "source": [
    "### Create Model from scratch using CNN\n",
    "model=Sequential()\n",
    "model.add(Conv2D(filters=16,kernel_size=2,padding=\"same\",activation=\"relu\",input_shape=(224,224,3)))\n",
    "model.add(MaxPooling2D(pool_size=2))\n",
    "model.add(Conv2D(filters=32,kernel_size=2,padding=\"same\",activation =\"relu\"))\n",
    "model.add(MaxPooling2D(pool_size=2))\n",
    "model.add(Conv2D(filters=64,kernel_size=2,padding=\"same\",activation=\"relu\"))\n",
    "model.add(MaxPooling2D(pool_size=2))\n",
    "model.add(Flatten())\n",
    "model.add(Dense(500,activation=\"relu\"))\n",
    "model.add(Dense(2,activation=\"softmax\"))\n",
    "model.summary()"
   ]
  },
  {
   "cell_type": "code",
   "execution_count": 58,
   "id": "e4d2e335",
   "metadata": {},
   "outputs": [],
   "source": [
    "model.compile(\n",
    "  loss='categorical_crossentropy',\n",
    "  optimizer='adam',\n",
    "  metrics=['accuracy']\n",
    ")"
   ]
  },
  {
   "cell_type": "code",
   "execution_count": 59,
   "id": "818033de",
   "metadata": {},
   "outputs": [],
   "source": [
    "from tensorflow.keras.preprocessing.image import ImageDataGenerator\n",
    "\n",
    "train_datagen = ImageDataGenerator(rescale = 1./255,\n",
    "                                   shear_range = 0.2,\n",
    "                                   zoom_range = 0.2,\n",
    "                                   horizontal_flip = True)\n",
    "\n",
    "test_datagen = ImageDataGenerator(rescale = 1./255)"
   ]
  },
  {
   "cell_type": "code",
   "execution_count": 63,
   "id": "b070d74f",
   "metadata": {},
   "outputs": [
    {
     "name": "stdout",
     "output_type": "stream",
     "text": [
      "Found 302 images belonging to 2 classes.\n"
     ]
    }
   ],
   "source": [
    "training_set = train_datagen.flow_from_directory('PycharmProjects/train',\n",
    "                                                 target_size = (224, 224),\n",
    "                                                 batch_size = 32,\n",
    "                                                 class_mode = 'categorical')"
   ]
  },
  {
   "cell_type": "code",
   "execution_count": 64,
   "id": "b4324473",
   "metadata": {},
   "outputs": [
    {
     "data": {
      "text/plain": [
       "<keras.preprocessing.image.DirectoryIterator at 0x217bc8860d0>"
      ]
     },
     "execution_count": 64,
     "metadata": {},
     "output_type": "execute_result"
    }
   ],
   "source": [
    "training_set"
   ]
  },
  {
   "cell_type": "code",
   "execution_count": 66,
   "id": "6c8ad5f2",
   "metadata": {},
   "outputs": [
    {
     "name": "stdout",
     "output_type": "stream",
     "text": [
      "Found 302 images belonging to 2 classes.\n"
     ]
    }
   ],
   "source": [
    "test_set = test_datagen.flow_from_directory('PycharmProjects/train',\n",
    "                                            target_size = (224, 224),\n",
    "                                            batch_size = 32,\n",
    "                                            class_mode = 'categorical')"
   ]
  },
  {
   "cell_type": "code",
   "execution_count": 68,
   "id": "fafc6de4",
   "metadata": {},
   "outputs": [
    {
     "name": "stderr",
     "output_type": "stream",
     "text": [
      "C:\\Users\\Charan\\AppData\\Local\\Temp/ipykernel_14240/1167563505.py:1: UserWarning: `Model.fit_generator` is deprecated and will be removed in a future version. Please use `Model.fit`, which supports generators.\n",
      "  r = model.fit_generator(\n"
     ]
    },
    {
     "name": "stdout",
     "output_type": "stream",
     "text": [
      "Epoch 1/50\n",
      "10/10 [==============================] - 65s 6s/step - loss: 1.7935 - accuracy: 0.6556 - val_loss: 0.2755 - val_accuracy: 0.9172\n",
      "Epoch 2/50\n",
      "10/10 [==============================] - 53s 6s/step - loss: 0.3811 - accuracy: 0.8146 - val_loss: 0.2720 - val_accuracy: 0.9437\n",
      "Epoch 3/50\n",
      "10/10 [==============================] - 56s 6s/step - loss: 0.2307 - accuracy: 0.9238 - val_loss: 0.1077 - val_accuracy: 0.9570\n",
      "Epoch 4/50\n",
      "10/10 [==============================] - 55s 6s/step - loss: 0.1804 - accuracy: 0.9371 - val_loss: 0.0716 - val_accuracy: 0.9768\n",
      "Epoch 5/50\n",
      "10/10 [==============================] - 58s 6s/step - loss: 0.1208 - accuracy: 0.9404 - val_loss: 0.0905 - val_accuracy: 0.9735\n",
      "Epoch 6/50\n",
      "10/10 [==============================] - 61s 6s/step - loss: 0.0833 - accuracy: 0.9702 - val_loss: 0.0561 - val_accuracy: 0.9834\n",
      "Epoch 7/50\n",
      "10/10 [==============================] - 65s 7s/step - loss: 0.0896 - accuracy: 0.9669 - val_loss: 0.0669 - val_accuracy: 0.9768\n",
      "Epoch 8/50\n",
      "10/10 [==============================] - 58s 6s/step - loss: 0.0990 - accuracy: 0.9503 - val_loss: 0.0524 - val_accuracy: 0.9868\n",
      "Epoch 9/50\n",
      "10/10 [==============================] - 59s 6s/step - loss: 0.0560 - accuracy: 0.9768 - val_loss: 0.0387 - val_accuracy: 0.9901\n",
      "Epoch 10/50\n",
      "10/10 [==============================] - 60s 6s/step - loss: 0.0626 - accuracy: 0.9735 - val_loss: 0.0307 - val_accuracy: 0.9901\n",
      "Epoch 11/50\n",
      "10/10 [==============================] - 64s 7s/step - loss: 0.0776 - accuracy: 0.9603 - val_loss: 0.0500 - val_accuracy: 0.9834\n",
      "Epoch 12/50\n",
      "10/10 [==============================] - 58s 6s/step - loss: 0.0517 - accuracy: 0.9834 - val_loss: 0.0336 - val_accuracy: 0.9834\n",
      "Epoch 13/50\n",
      "10/10 [==============================] - 57s 6s/step - loss: 0.0773 - accuracy: 0.9669 - val_loss: 0.0511 - val_accuracy: 0.9834\n",
      "Epoch 14/50\n",
      "10/10 [==============================] - 57s 6s/step - loss: 0.0386 - accuracy: 0.9868 - val_loss: 0.0174 - val_accuracy: 0.9967\n",
      "Epoch 15/50\n",
      "10/10 [==============================] - 55s 6s/step - loss: 0.0499 - accuracy: 0.9868 - val_loss: 0.0140 - val_accuracy: 0.9967\n",
      "Epoch 16/50\n",
      "10/10 [==============================] - 52s 5s/step - loss: 0.0275 - accuracy: 0.9901 - val_loss: 0.0425 - val_accuracy: 0.9834\n",
      "Epoch 17/50\n",
      "10/10 [==============================] - 50s 5s/step - loss: 0.0777 - accuracy: 0.9669 - val_loss: 0.0457 - val_accuracy: 0.9801\n",
      "Epoch 18/50\n",
      "10/10 [==============================] - 56s 6s/step - loss: 0.0455 - accuracy: 0.9934 - val_loss: 0.0540 - val_accuracy: 0.9768\n",
      "Epoch 19/50\n",
      "10/10 [==============================] - 56s 6s/step - loss: 0.0338 - accuracy: 0.9901 - val_loss: 0.0142 - val_accuracy: 0.9934\n",
      "Epoch 20/50\n",
      "10/10 [==============================] - 49s 5s/step - loss: 0.0102 - accuracy: 1.0000 - val_loss: 0.0081 - val_accuracy: 1.0000\n",
      "Epoch 21/50\n",
      "10/10 [==============================] - 56s 6s/step - loss: 0.0089 - accuracy: 1.0000 - val_loss: 0.0085 - val_accuracy: 0.9967\n",
      "Epoch 22/50\n",
      "10/10 [==============================] - 52s 5s/step - loss: 0.0243 - accuracy: 0.9901 - val_loss: 0.0220 - val_accuracy: 0.9868\n",
      "Epoch 23/50\n",
      "10/10 [==============================] - 31s 3s/step - loss: 0.0315 - accuracy: 0.9868 - val_loss: 0.0174 - val_accuracy: 1.0000\n",
      "Epoch 24/50\n",
      "10/10 [==============================] - 24s 3s/step - loss: 0.0405 - accuracy: 0.9868 - val_loss: 0.0357 - val_accuracy: 0.9901\n",
      "Epoch 25/50\n",
      "10/10 [==============================] - 17s 2s/step - loss: 0.0232 - accuracy: 0.9934 - val_loss: 0.0204 - val_accuracy: 0.9934\n",
      "Epoch 26/50\n",
      "10/10 [==============================] - 17s 2s/step - loss: 0.0260 - accuracy: 0.9967 - val_loss: 0.0093 - val_accuracy: 0.9967\n",
      "Epoch 27/50\n",
      "10/10 [==============================] - 18s 2s/step - loss: 0.0199 - accuracy: 0.9934 - val_loss: 0.0214 - val_accuracy: 0.9901\n",
      "Epoch 28/50\n",
      "10/10 [==============================] - 18s 2s/step - loss: 0.0314 - accuracy: 0.9868 - val_loss: 0.0056 - val_accuracy: 1.0000\n",
      "Epoch 29/50\n",
      "10/10 [==============================] - 17s 2s/step - loss: 0.0139 - accuracy: 0.9934 - val_loss: 0.0158 - val_accuracy: 0.9934\n",
      "Epoch 30/50\n",
      "10/10 [==============================] - 17s 2s/step - loss: 0.0174 - accuracy: 0.9967 - val_loss: 0.0069 - val_accuracy: 0.9967\n",
      "Epoch 31/50\n",
      "10/10 [==============================] - 17s 2s/step - loss: 0.0127 - accuracy: 0.9967 - val_loss: 0.0521 - val_accuracy: 0.9834\n",
      "Epoch 32/50\n",
      "10/10 [==============================] - 17s 2s/step - loss: 0.0664 - accuracy: 0.9735 - val_loss: 0.0266 - val_accuracy: 0.9801\n",
      "Epoch 33/50\n",
      "10/10 [==============================] - 17s 2s/step - loss: 0.0521 - accuracy: 0.9801 - val_loss: 0.0094 - val_accuracy: 1.0000\n",
      "Epoch 34/50\n",
      "10/10 [==============================] - 17s 2s/step - loss: 0.0160 - accuracy: 1.0000 - val_loss: 0.0284 - val_accuracy: 0.9901\n",
      "Epoch 35/50\n",
      "10/10 [==============================] - 17s 2s/step - loss: 0.0166 - accuracy: 0.9934 - val_loss: 0.0120 - val_accuracy: 0.9967\n",
      "Epoch 36/50\n",
      "10/10 [==============================] - 18s 2s/step - loss: 0.0440 - accuracy: 0.9834 - val_loss: 0.1751 - val_accuracy: 0.9371\n",
      "Epoch 37/50\n",
      "10/10 [==============================] - 18s 2s/step - loss: 0.0339 - accuracy: 0.9901 - val_loss: 0.0091 - val_accuracy: 0.9967\n",
      "Epoch 38/50\n",
      "10/10 [==============================] - 17s 2s/step - loss: 0.0408 - accuracy: 0.9868 - val_loss: 0.0103 - val_accuracy: 1.0000\n",
      "Epoch 39/50\n",
      "10/10 [==============================] - 18s 2s/step - loss: 0.0256 - accuracy: 0.9834 - val_loss: 0.0102 - val_accuracy: 1.0000\n",
      "Epoch 40/50\n",
      "10/10 [==============================] - 19s 2s/step - loss: 0.0166 - accuracy: 0.9934 - val_loss: 0.0102 - val_accuracy: 0.9934\n",
      "Epoch 41/50\n",
      "10/10 [==============================] - 18s 2s/step - loss: 0.0221 - accuracy: 0.9868 - val_loss: 0.0030 - val_accuracy: 1.0000\n",
      "Epoch 42/50\n",
      "10/10 [==============================] - 18s 2s/step - loss: 0.0279 - accuracy: 0.9868 - val_loss: 0.0086 - val_accuracy: 1.0000\n",
      "Epoch 43/50\n",
      "10/10 [==============================] - 17s 2s/step - loss: 0.0033 - accuracy: 1.0000 - val_loss: 0.0032 - val_accuracy: 1.0000\n",
      "Epoch 44/50\n",
      "10/10 [==============================] - 17s 2s/step - loss: 0.0114 - accuracy: 0.9967 - val_loss: 0.0036 - val_accuracy: 1.0000\n",
      "Epoch 45/50\n",
      "10/10 [==============================] - 18s 2s/step - loss: 0.0286 - accuracy: 0.9868 - val_loss: 0.0010 - val_accuracy: 1.0000\n",
      "Epoch 46/50\n",
      "10/10 [==============================] - 17s 2s/step - loss: 0.0049 - accuracy: 1.0000 - val_loss: 0.0016 - val_accuracy: 1.0000\n",
      "Epoch 47/50\n",
      "10/10 [==============================] - 18s 2s/step - loss: 0.0037 - accuracy: 1.0000 - val_loss: 0.0013 - val_accuracy: 1.0000\n",
      "Epoch 48/50\n",
      "10/10 [==============================] - 18s 2s/step - loss: 0.0085 - accuracy: 0.9967 - val_loss: 0.0016 - val_accuracy: 1.0000\n",
      "Epoch 49/50\n",
      "10/10 [==============================] - 18s 2s/step - loss: 0.0187 - accuracy: 0.9901 - val_loss: 0.0023 - val_accuracy: 1.0000\n",
      "Epoch 50/50\n",
      "10/10 [==============================] - 17s 2s/step - loss: 0.0205 - accuracy: 0.9901 - val_loss: 0.0012 - val_accuracy: 1.0000\n"
     ]
    }
   ],
   "source": [
    "r = model.fit_generator(\n",
    "  training_set,\n",
    "  validation_data=test_set,\n",
    "  epochs=50,\n",
    "  steps_per_epoch=len(training_set),\n",
    "  validation_steps=len(test_set)\n",
    ")"
   ]
  },
  {
   "cell_type": "code",
   "execution_count": 69,
   "id": "c13dbfdf",
   "metadata": {},
   "outputs": [
    {
     "data": {
      "image/png": "[encoded data removed]",
      "text/plain": [
       "<Figure size 432x288 with 1 Axes>"
      ]
     },
     "metadata": {
      "needs_background": "light"
     },
     "output_type": "display_data"
    },
    {
     "data": {
      "image/png": "[encoded data removed]",
      "text/plain": [
       "<Figure size 432x288 with 1 Axes>"
      ]
     },
     "metadata": {
      "needs_background": "light"
     },
     "output_type": "display_data"
    },
    {
     "data": {
      "text/plain": [
       "<Figure size 432x288 with 0 Axes>"
      ]
     },
     "metadata": {},
     "output_type": "display_data"
    }
   ],
   "source": [
    "plt.plot(r.history['loss'], label='train loss')\n",
    "plt.plot(r.history['val_loss'], label='val loss')\n",
    "plt.legend()\n",
    "plt.show()\n",
    "plt.savefig('LossVal_loss')\n",
    "\n",
    "# plot the accuracy\n",
    "plt.plot(r.history['accuracy'], label='train acc')\n",
    "plt.plot(r.history['val_accuracy'], label='val acc')\n",
    "plt.legend()\n",
    "plt.show()\n",
    "plt.savefig('AccVal_acc')"
   ]
  },
  {
   "cell_type": "code",
   "execution_count": 80,
   "id": "74b47c32",
   "metadata": {},
   "outputs": [],
   "source": [
    "from tensorflow.keras.models import load_model\n",
    "\n",
    "model.save('model_vgg19.h5')"
   ]
  },
  {
   "cell_type": "code",
   "execution_count": 78,
   "id": "1cc7abbe",
   "metadata": {},
   "outputs": [
    {
     "data": {
      "text/plain": [
       "array([[9.99979138e-01, 2.08427136e-05],\n",
       "       [9.99860048e-01, 1.39897282e-04],\n",
       "       [9.98961806e-01, 1.03816902e-03],\n",
       "       [9.99486804e-01, 5.13189880e-04],\n",
       "       [1.04423620e-04, 9.99895573e-01],\n",
       "       [9.99836922e-01, 1.62996512e-04],\n",
       "       [9.97713089e-01, 2.28692079e-03],\n",
       "       [9.98843670e-01, 1.15636073e-03],\n",
       "       [9.99999166e-01, 8.67925507e-07],\n",
       "       [9.99779046e-01, 2.21018170e-04],\n",
       "       [7.80194114e-06, 9.99992251e-01],\n",
       "       [8.96722577e-06, 9.99991059e-01],\n",
       "       [3.22405214e-07, 9.99999642e-01],\n",
       "       [3.39357848e-06, 9.99996662e-01],\n",
       "       [5.73749276e-07, 9.99999404e-01],\n",
       "       [9.99987125e-01, 1.28845841e-05],\n",
       "       [9.99951720e-01, 4.83012700e-05],\n",
       "       [1.80768511e-05, 9.99981880e-01],\n",
       "       [1.70449516e-06, 9.99998331e-01],\n",
       "       [8.33383584e-10, 1.00000000e+00],\n",
       "       [2.01629859e-07, 9.99999762e-01],\n",
       "       [1.56962597e-06, 9.99998450e-01],\n",
       "       [9.33928004e-06, 9.99990702e-01],\n",
       "       [9.99932528e-01, 6.74464754e-05],\n",
       "       [9.99997020e-01, 2.93738890e-06],\n",
       "       [9.99573767e-01, 4.26231214e-04],\n",
       "       [1.76685044e-05, 9.99982357e-01],\n",
       "       [9.99999762e-01, 2.68233265e-07],\n",
       "       [9.99999881e-01, 1.56536103e-07],\n",
       "       [3.34802337e-07, 9.99999642e-01],\n",
       "       [2.28244926e-06, 9.99997735e-01],\n",
       "       [5.23705630e-08, 1.00000000e+00],\n",
       "       [9.99637604e-01, 3.62351624e-04],\n",
       "       [1.10524491e-06, 9.99998927e-01],\n",
       "       [3.06859391e-08, 1.00000000e+00],\n",
       "       [5.79290281e-06, 9.99994159e-01],\n",
       "       [9.99981642e-01, 1.83457287e-05],\n",
       "       [9.99721587e-01, 2.78367806e-04],\n",
       "       [9.80767787e-01, 1.92322452e-02],\n",
       "       [4.09981538e-07, 9.99999642e-01],\n",
       "       [9.99990940e-01, 9.05997513e-06],\n",
       "       [9.99999881e-01, 1.07704658e-07],\n",
       "       [9.98426318e-01, 1.57364691e-03],\n",
       "       [3.73800145e-03, 9.96262014e-01],\n",
       "       [9.99951959e-01, 4.80437848e-05],\n",
       "       [3.71104875e-07, 9.99999642e-01],\n",
       "       [9.99778211e-01, 2.21845155e-04],\n",
       "       [7.84413487e-07, 9.99999166e-01],\n",
       "       [6.72836268e-06, 9.99993324e-01],\n",
       "       [9.99948621e-01, 5.13280393e-05],\n",
       "       [1.00000000e+00, 2.46174636e-08],\n",
       "       [2.11928891e-05, 9.99978781e-01],\n",
       "       [9.99462545e-01, 5.37471322e-04],\n",
       "       [9.15390217e-07, 9.99999046e-01],\n",
       "       [9.99999762e-01, 2.26109734e-07],\n",
       "       [7.27304013e-08, 9.99999881e-01],\n",
       "       [6.00084547e-07, 9.99999404e-01],\n",
       "       [9.99969006e-01, 3.09910356e-05],\n",
       "       [1.02151302e-04, 9.99897838e-01],\n",
       "       [2.08525663e-07, 9.99999762e-01],\n",
       "       [9.68114078e-01, 3.18858698e-02],\n",
       "       [1.00000000e+00, 1.78103612e-13],\n",
       "       [1.04279925e-05, 9.99989629e-01],\n",
       "       [1.04633591e-03, 9.98953700e-01],\n",
       "       [9.99711692e-01, 2.88259675e-04],\n",
       "       [9.96015131e-01, 3.98487505e-03],\n",
       "       [6.96804875e-07, 9.99999285e-01],\n",
       "       [1.00000000e+00, 5.46681314e-08],\n",
       "       [1.70851365e-07, 9.99999881e-01],\n",
       "       [9.99999881e-01, 1.41507357e-07],\n",
       "       [9.99999642e-01, 4.08219648e-07],\n",
       "       [6.88813060e-08, 9.99999881e-01],\n",
       "       [9.99994755e-01, 5.22887467e-06],\n",
       "       [6.62241550e-09, 1.00000000e+00],\n",
       "       [9.99997377e-01, 2.57559418e-06],\n",
       "       [6.49943649e-06, 9.99993443e-01],\n",
       "       [9.98573065e-01, 1.42687943e-03],\n",
       "       [3.88856597e-06, 9.99996066e-01],\n",
       "       [9.99688387e-01, 3.11622833e-04],\n",
       "       [7.88658326e-07, 9.99999166e-01],\n",
       "       [1.72322598e-06, 9.99998331e-01],\n",
       "       [5.20802018e-07, 9.99999523e-01],\n",
       "       [9.98099744e-01, 1.90032052e-03],\n",
       "       [9.99982715e-01, 1.72550390e-05],\n",
       "       [9.97554600e-01, 2.44543562e-03],\n",
       "       [9.99981046e-01, 1.89422481e-05],\n",
       "       [9.99892712e-01, 1.07263710e-04],\n",
       "       [9.99926925e-01, 7.30347747e-05],\n",
       "       [2.01717441e-04, 9.99798357e-01],\n",
       "       [1.00000000e+00, 2.87008715e-11],\n",
       "       [1.50091751e-07, 9.99999881e-01],\n",
       "       [1.21051089e-05, 9.99987841e-01],\n",
       "       [9.99996781e-01, 3.25355109e-06],\n",
       "       [1.43316655e-07, 9.99999881e-01],\n",
       "       [9.65481251e-03, 9.90345180e-01],\n",
       "       [4.60757690e-07, 9.99999523e-01],\n",
       "       [1.00000000e+00, 4.33818705e-08],\n",
       "       [9.99941587e-01, 5.84628433e-05],\n",
       "       [9.99999046e-01, 9.60407306e-07],\n",
       "       [9.99987602e-01, 1.23435639e-05],\n",
       "       [1.74972385e-07, 9.99999881e-01],\n",
       "       [1.55391717e-07, 9.99999881e-01],\n",
       "       [9.79287028e-01, 2.07129586e-02],\n",
       "       [9.97133374e-01, 2.86656269e-03],\n",
       "       [1.00000000e+00, 2.55478774e-15],\n",
       "       [9.99762356e-01, 2.37694214e-04],\n",
       "       [9.99910951e-01, 8.89992443e-05],\n",
       "       [1.00000000e+00, 6.03241144e-13],\n",
       "       [5.80063079e-06, 9.99994159e-01],\n",
       "       [5.78369509e-07, 9.99999404e-01],\n",
       "       [9.99879599e-01, 1.20395773e-04],\n",
       "       [9.99997616e-01, 2.34700747e-06],\n",
       "       [3.47892382e-08, 1.00000000e+00],\n",
       "       [1.63078662e-09, 1.00000000e+00],\n",
       "       [4.70342940e-07, 9.99999523e-01],\n",
       "       [9.99994040e-01, 6.00737803e-06],\n",
       "       [9.99993443e-01, 6.56134080e-06],\n",
       "       [9.99999642e-01, 3.28306641e-07],\n",
       "       [9.99993086e-01, 6.95992003e-06],\n",
       "       [1.00000000e+00, 1.02748650e-10],\n",
       "       [9.99993920e-01, 6.10152574e-06],\n",
       "       [9.98852015e-01, 1.14798488e-03],\n",
       "       [1.67783583e-06, 9.99998331e-01],\n",
       "       [9.99969721e-01, 3.02945537e-05],\n",
       "       [1.08180691e-04, 9.99891758e-01],\n",
       "       [5.81463269e-08, 1.00000000e+00],\n",
       "       [1.76702894e-03, 9.98232961e-01],\n",
       "       [9.99993801e-01, 6.18837339e-06],\n",
       "       [1.00000000e+00, 4.57664668e-13],\n",
       "       [1.28711918e-06, 9.99998689e-01],\n",
       "       [9.99995947e-01, 4.02399564e-06],\n",
       "       [3.26965562e-07, 9.99999642e-01],\n",
       "       [3.62860374e-06, 9.99996424e-01],\n",
       "       [6.51535288e-07, 9.99999404e-01],\n",
       "       [9.99854684e-01, 1.45338752e-04],\n",
       "       [5.13195403e-07, 9.99999523e-01],\n",
       "       [2.35803408e-11, 1.00000000e+00],\n",
       "       [9.99982715e-01, 1.73320404e-05],\n",
       "       [4.82583826e-04, 9.99517441e-01],\n",
       "       [1.00000000e+00, 2.31840806e-16],\n",
       "       [2.18341884e-05, 9.99978185e-01],\n",
       "       [4.64829583e-07, 9.99999523e-01],\n",
       "       [9.99997139e-01, 2.90475987e-06],\n",
       "       [7.28562554e-07, 9.99999285e-01],\n",
       "       [3.03868610e-08, 1.00000000e+00],\n",
       "       [8.76959483e-09, 1.00000000e+00],\n",
       "       [9.99891281e-01, 1.08682376e-04],\n",
       "       [5.91740757e-03, 9.94082630e-01],\n",
       "       [2.73916271e-06, 9.99997258e-01],\n",
       "       [9.74035263e-03, 9.90259588e-01],\n",
       "       [9.99946952e-01, 5.30951293e-05],\n",
       "       [9.99998689e-01, 1.33854542e-06],\n",
       "       [4.10115499e-05, 9.99958992e-01],\n",
       "       [9.96402377e-06, 9.99989986e-01],\n",
       "       [1.94726943e-03, 9.98052716e-01],\n",
       "       [2.38879466e-06, 9.99997616e-01],\n",
       "       [9.99988794e-01, 1.12565049e-05],\n",
       "       [3.11847157e-06, 9.99996901e-01],\n",
       "       [9.99978185e-01, 2.18429559e-05],\n",
       "       [1.00000000e+00, 1.60878946e-13],\n",
       "       [2.51781948e-05, 9.99974847e-01],\n",
       "       [1.19152496e-07, 9.99999881e-01],\n",
       "       [1.00000000e+00, 4.22044533e-09],\n",
       "       [7.69229373e-05, 9.99923110e-01],\n",
       "       [9.99891758e-01, 1.08226617e-04],\n",
       "       [9.96227026e-01, 3.77302011e-03],\n",
       "       [3.79774065e-05, 9.99961972e-01],\n",
       "       [9.99988675e-01, 1.13698525e-05],\n",
       "       [9.99999285e-01, 7.64948879e-07],\n",
       "       [9.99999285e-01, 6.94651192e-07],\n",
       "       [9.99981165e-01, 1.88087361e-05],\n",
       "       [7.63917924e-05, 9.99923587e-01],\n",
       "       [1.33864478e-05, 9.99986649e-01],\n",
       "       [9.85071097e-07, 9.99999046e-01],\n",
       "       [9.56673944e-07, 9.99999046e-01],\n",
       "       [5.31747582e-06, 9.99994636e-01],\n",
       "       [2.61739416e-07, 9.99999762e-01],\n",
       "       [3.32883765e-08, 1.00000000e+00],\n",
       "       [9.99415517e-01, 5.84451016e-04],\n",
       "       [1.00000000e+00, 1.35877952e-12],\n",
       "       [3.49572531e-08, 1.00000000e+00],\n",
       "       [4.11410355e-07, 9.99999642e-01],\n",
       "       [5.24995594e-05, 9.99947548e-01],\n",
       "       [9.99985695e-01, 1.43433172e-05],\n",
       "       [1.00000000e+00, 2.58320672e-08],\n",
       "       [4.08550150e-05, 9.99959111e-01],\n",
       "       [5.69468966e-07, 9.99999404e-01],\n",
       "       [9.99951720e-01, 4.82654868e-05],\n",
       "       [9.99994278e-01, 5.68571977e-06],\n",
       "       [4.77448426e-04, 9.99522567e-01],\n",
       "       [9.99892592e-01, 1.07359796e-04],\n",
       "       [1.39542990e-07, 9.99999881e-01],\n",
       "       [9.69601388e-06, 9.99990344e-01],\n",
       "       [9.99589860e-01, 4.10119916e-04],\n",
       "       [4.08638755e-07, 9.99999642e-01],\n",
       "       [7.89913088e-07, 9.99999166e-01],\n",
       "       [9.99998093e-01, 1.88337606e-06],\n",
       "       [9.39322053e-05, 9.99906063e-01],\n",
       "       [1.00000000e+00, 2.06563128e-10],\n",
       "       [9.68279064e-01, 3.17209251e-02],\n",
       "       [7.13582267e-07, 9.99999285e-01],\n",
       "       [8.51529649e-07, 9.99999166e-01],\n",
       "       [9.99915957e-01, 8.40704088e-05],\n",
       "       [9.99944925e-01, 5.50736222e-05],\n",
       "       [9.99626637e-01, 3.73368443e-04],\n",
       "       [9.99981523e-01, 1.84238179e-05],\n",
       "       [9.99028206e-01, 9.71822883e-04],\n",
       "       [9.88570750e-01, 1.14292661e-02],\n",
       "       [9.99999046e-01, 9.04222702e-07],\n",
       "       [9.99982595e-01, 1.74162942e-05],\n",
       "       [9.99982357e-01, 1.76994326e-05],\n",
       "       [5.93017321e-04, 9.99406934e-01],\n",
       "       [1.21921062e-06, 9.99998808e-01],\n",
       "       [9.63158071e-01, 3.68418656e-02],\n",
       "       [1.43705066e-07, 9.99999881e-01],\n",
       "       [9.99938130e-01, 6.19121929e-05],\n",
       "       [9.99965787e-01, 3.42622188e-05],\n",
       "       [9.99920487e-01, 7.94762454e-05],\n",
       "       [9.94842608e-08, 9.99999881e-01],\n",
       "       [3.27756055e-07, 9.99999642e-01],\n",
       "       [1.73678970e-07, 9.99999881e-01],\n",
       "       [1.00000000e+00, 1.63819163e-08],\n",
       "       [4.24080639e-07, 9.99999523e-01],\n",
       "       [1.66425025e-06, 9.99998331e-01],\n",
       "       [9.97764468e-01, 2.23547244e-03],\n",
       "       [2.22235176e-05, 9.99977827e-01],\n",
       "       [1.54045629e-05, 9.99984622e-01],\n",
       "       [9.99997139e-01, 2.90809999e-06],\n",
       "       [5.37072680e-08, 1.00000000e+00],\n",
       "       [9.99899268e-01, 1.00722355e-04],\n",
       "       [9.99998808e-01, 1.18154628e-06],\n",
       "       [6.91413356e-04, 9.99308586e-01],\n",
       "       [6.29639317e-07, 9.99999404e-01],\n",
       "       [1.23618804e-07, 9.99999881e-01],\n",
       "       [1.00000000e+00, 3.76482916e-08],\n",
       "       [9.99939680e-01, 6.02987529e-05],\n",
       "       [1.98488170e-03, 9.98015046e-01],\n",
       "       [1.00000000e+00, 1.21516297e-10],\n",
       "       [1.54833959e-08, 1.00000000e+00],\n",
       "       [1.74920460e-05, 9.99982476e-01],\n",
       "       [5.32611750e-07, 9.99999523e-01],\n",
       "       [1.00000000e+00, 1.64509465e-17],\n",
       "       [1.03139882e-06, 9.99998927e-01],\n",
       "       [9.99999166e-01, 8.56102531e-07],\n",
       "       [2.83964027e-07, 9.99999762e-01],\n",
       "       [9.99990225e-01, 9.76009142e-06],\n",
       "       [6.04674540e-07, 9.99999404e-01],\n",
       "       [9.99999285e-01, 6.69635426e-07],\n",
       "       [1.09895345e-05, 9.99989033e-01],\n",
       "       [9.91797686e-01, 8.20226967e-03],\n",
       "       [9.03602029e-07, 9.99999046e-01],\n",
       "       [9.99999523e-01, 5.09252175e-07],\n",
       "       [1.95493417e-08, 1.00000000e+00],\n",
       "       [1.80530719e-07, 9.99999762e-01],\n",
       "       [8.34563180e-05, 9.99916553e-01],\n",
       "       [1.43026527e-05, 9.99985695e-01],\n",
       "       [2.59411143e-04, 9.99740541e-01],\n",
       "       [9.99985218e-01, 1.47696846e-05],\n",
       "       [9.99999523e-01, 4.30153818e-07],\n",
       "       [9.99891996e-01, 1.08028544e-04],\n",
       "       [1.80562054e-07, 9.99999762e-01],\n",
       "       [1.30415071e-06, 9.99998689e-01],\n",
       "       [3.71930724e-07, 9.99999642e-01],\n",
       "       [2.81663347e-06, 9.99997139e-01],\n",
       "       [9.50481236e-01, 4.95187864e-02],\n",
       "       [4.62750859e-06, 9.99995351e-01],\n",
       "       [9.99655366e-01, 3.44690197e-04],\n",
       "       [1.00000000e+00, 2.08297213e-10],\n",
       "       [9.47665155e-01, 5.23348637e-02],\n",
       "       [2.37625674e-03, 9.97623742e-01],\n",
       "       [7.65969244e-09, 1.00000000e+00],\n",
       "       [1.07527931e-07, 9.99999881e-01],\n",
       "       [9.99983788e-01, 1.62375054e-05],\n",
       "       [7.41842177e-06, 9.99992609e-01],\n",
       "       [9.89597738e-01, 1.04023488e-02],\n",
       "       [9.99999166e-01, 8.03735531e-07],\n",
       "       [9.99985695e-01, 1.42869349e-05],\n",
       "       [9.99888301e-01, 1.11686415e-04],\n",
       "       [2.34968084e-07, 9.99999762e-01],\n",
       "       [9.98915911e-01, 1.08409580e-03],\n",
       "       [1.00000000e+00, 2.20565558e-12],\n",
       "       [2.88098949e-08, 1.00000000e+00],\n",
       "       [2.10305885e-07, 9.99999762e-01],\n",
       "       [1.31332207e-08, 1.00000000e+00],\n",
       "       [5.49181914e-06, 9.99994516e-01],\n",
       "       [1.00000000e+00, 1.94300400e-13],\n",
       "       [9.99798596e-01, 2.01428760e-04],\n",
       "       [1.00000000e+00, 9.80084330e-12],\n",
       "       [2.40140776e-06, 9.99997616e-01],\n",
       "       [9.99978900e-01, 2.11548886e-05],\n",
       "       [9.97906804e-01, 2.09323084e-03],\n",
       "       [9.99996424e-01, 3.55739553e-06],\n",
       "       [6.28616835e-05, 9.99937177e-01],\n",
       "       [9.99966025e-01, 3.39797480e-05],\n",
       "       [9.61458773e-06, 9.99990344e-01],\n",
       "       [4.39587602e-08, 1.00000000e+00],\n",
       "       [9.99949098e-01, 5.09369311e-05],\n",
       "       [5.97280541e-06, 9.99994040e-01],\n",
       "       [2.28324897e-08, 1.00000000e+00],\n",
       "       [9.99965549e-01, 3.44872606e-05],\n",
       "       [9.99994159e-01, 5.86977421e-06],\n",
       "       [1.61170828e-08, 1.00000000e+00]], dtype=float32)"
      ]
     },
     "execution_count": 78,
     "metadata": {},
     "output_type": "execute_result"
    }
   ],
   "source": [
    "y_pred = model.predict(test_set)\n",
    "y_pred"
   ]
  },
  {
   "cell_type": "code",
   "execution_count": 79,
   "id": "f9f84f91",
   "metadata": {},
   "outputs": [
    {
     "data": {
      "text/plain": [
       "array([0, 0, 0, 0, 1, 0, 0, 0, 0, 0, 1, 1, 1, 1, 1, 0, 0, 1, 1, 1, 1, 1,\n",
       "       1, 0, 0, 0, 1, 0, 0, 1, 1, 1, 0, 1, 1, 1, 0, 0, 0, 1, 0, 0, 0, 1,\n",
       "       0, 1, 0, 1, 1, 0, 0, 1, 0, 1, 0, 1, 1, 0, 1, 1, 0, 0, 1, 1, 0, 0,\n",
       "       1, 0, 1, 0, 0, 1, 0, 1, 0, 1, 0, 1, 0, 1, 1, 1, 0, 0, 0, 0, 0, 0,\n",
       "       1, 0, 1, 1, 0, 1, 1, 1, 0, 0, 0, 0, 1, 1, 0, 0, 0, 0, 0, 0, 1, 1,\n",
       "       0, 0, 1, 1, 1, 0, 0, 0, 0, 0, 0, 0, 1, 0, 1, 1, 1, 0, 0, 1, 0, 1,\n",
       "       1, 1, 0, 1, 1, 0, 1, 0, 1, 1, 0, 1, 1, 1, 0, 1, 1, 1, 0, 0, 1, 1,\n",
       "       1, 1, 0, 1, 0, 0, 1, 1, 0, 1, 0, 0, 1, 0, 0, 0, 0, 1, 1, 1, 1, 1,\n",
       "       1, 1, 0, 0, 1, 1, 1, 0, 0, 1, 1, 0, 0, 1, 0, 1, 1, 0, 1, 1, 0, 1,\n",
       "       0, 0, 1, 1, 0, 0, 0, 0, 0, 0, 0, 0, 0, 1, 1, 0, 1, 0, 0, 0, 1, 1,\n",
       "       1, 0, 1, 1, 0, 1, 1, 0, 1, 0, 0, 1, 1, 1, 0, 0, 1, 0, 1, 1, 1, 0,\n",
       "       1, 0, 1, 0, 1, 0, 1, 0, 1, 0, 1, 1, 1, 1, 1, 0, 0, 0, 1, 1, 1, 1,\n",
       "       0, 1, 0, 0, 0, 1, 1, 1, 0, 1, 0, 0, 0, 0, 1, 0, 0, 1, 1, 1, 1, 0,\n",
       "       0, 0, 1, 0, 0, 0, 1, 0, 1, 1, 0, 1, 1, 0, 0, 1], dtype=int64)"
      ]
     },
     "execution_count": 79,
     "metadata": {},
     "output_type": "execute_result"
    }
   ],
   "source": [
    "import numpy as np\n",
    "y_pred = np.argmax(y_pred, axis=1)\n",
    "y_pred"
   ]
  },
  {
   "cell_type": "code",
   "execution_count": 81,
   "id": "0dd9e093",
   "metadata": {},
   "outputs": [],
   "source": [
    "from tensorflow.keras.models import load_model\n",
    "from tensorflow.keras.preprocessing import image"
   ]
  },
  {
   "cell_type": "code",
   "execution_count": 82,
   "id": "dff7bb44",
   "metadata": {},
   "outputs": [],
   "source": [
    "model=load_model('model_vgg19.h5')"
   ]
  },
  {
   "cell_type": "code",
   "execution_count": 87,
   "id": "78dac09e",
   "metadata": {},
   "outputs": [],
   "source": [
    "img=image.load_img('PycharmProjects/train/covid/covid/x.jpeg',target_size=(224,224))"
   ]
  },
  {
   "cell_type": "code",
   "execution_count": 88,
   "id": "7086c701",
   "metadata": {},
   "outputs": [
    {
     "data": {
      "text/plain": [
       "array([[[133., 133., 133.],\n",
       "        [121., 121., 121.],\n",
       "        [115., 115., 115.],\n",
       "        ...,\n",
       "        [133., 133., 133.],\n",
       "        [132., 132., 132.],\n",
       "        [254., 254., 254.]],\n",
       "\n",
       "       [[109., 109., 109.],\n",
       "        [ 95.,  95.,  95.],\n",
       "        [ 89.,  89.,  89.],\n",
       "        ...,\n",
       "        [128., 128., 128.],\n",
       "        [124., 124., 124.],\n",
       "        [254., 254., 254.]],\n",
       "\n",
       "       [[ 56.,  56.,  56.],\n",
       "        [ 46.,  46.,  46.],\n",
       "        [ 48.,  48.,  48.],\n",
       "        ...,\n",
       "        [123., 123., 123.],\n",
       "        [116., 116., 116.],\n",
       "        [254., 254., 254.]],\n",
       "\n",
       "       ...,\n",
       "\n",
       "       [[247., 247., 247.],\n",
       "        [243., 243., 243.],\n",
       "        [242., 242., 242.],\n",
       "        ...,\n",
       "        [215., 215., 215.],\n",
       "        [209., 209., 209.],\n",
       "        [254., 254., 254.]],\n",
       "\n",
       "       [[246., 246., 246.],\n",
       "        [243., 243., 243.],\n",
       "        [242., 242., 242.],\n",
       "        ...,\n",
       "        [216., 216., 216.],\n",
       "        [214., 214., 214.],\n",
       "        [254., 254., 254.]],\n",
       "\n",
       "       [[245., 245., 245.],\n",
       "        [243., 243., 243.],\n",
       "        [242., 242., 242.],\n",
       "        ...,\n",
       "        [218., 218., 218.],\n",
       "        [214., 214., 214.],\n",
       "        [254., 254., 254.]]], dtype=float32)"
      ]
     },
     "execution_count": 88,
     "metadata": {},
     "output_type": "execute_result"
    }
   ],
   "source": [
    "x=image.img_to_array(img)\n",
    "x"
   ]
  },
  {
   "cell_type": "code",
   "execution_count": 89,
   "id": "8e686b3f",
   "metadata": {},
   "outputs": [
    {
     "data": {
      "text/plain": [
       "(224, 224, 3)"
      ]
     },
     "execution_count": 89,
     "metadata": {},
     "output_type": "execute_result"
    }
   ],
   "source": [
    "x.shape"
   ]
  },
  {
   "cell_type": "code",
   "execution_count": 90,
   "id": "3cbe87d6",
   "metadata": {},
   "outputs": [],
   "source": [
    "x=x/255"
   ]
  },
  {
   "cell_type": "code",
   "execution_count": 91,
   "id": "96e53b3d",
   "metadata": {},
   "outputs": [
    {
     "data": {
      "text/plain": [
       "(1, 224, 224, 3)"
      ]
     },
     "execution_count": 91,
     "metadata": {},
     "output_type": "execute_result"
    }
   ],
   "source": [
    "x=np.expand_dims(x,axis=0)\n",
    "img_data=preprocess_input(x)\n",
    "img_data.shape"
   ]
  },
  {
   "cell_type": "code",
   "execution_count": 92,
   "id": "def5f9f3",
   "metadata": {},
   "outputs": [
    {
     "data": {
      "text/plain": [
       "array([[1., 0.]], dtype=float32)"
      ]
     },
     "execution_count": 92,
     "metadata": {},
     "output_type": "execute_result"
    }
   ],
   "source": [
    "model.predict(img_data)"
   ]
  },
  {
   "cell_type": "code",
   "execution_count": 93,
   "id": "ed1d4d04",
   "metadata": {},
   "outputs": [],
   "source": [
    "a=np.argmax(model.predict(img_data), axis=1)"
   ]
  },
  {
   "cell_type": "code",
   "execution_count": 94,
   "id": "f7a45eb2",
   "metadata": {},
   "outputs": [
    {
     "name": "stdout",
     "output_type": "stream",
     "text": [
      "Infected\n"
     ]
    }
   ],
   "source": [
    "if(a==1):\n",
    "    print(\"Uninfected\")\n",
    "else:\n",
    "    print(\"Infected\")\n"
   ]
  },
  {
   "cell_type": "code",
   "execution_count": null,
   "id": "85b17348",
   "metadata": {},
   "outputs": [],
   "source": []
  }
 ],
 "metadata": {
  "kernelspec": {
   "display_name": "Python 3 (ipykernel)",
   "language": "python",
   "name": "python3"
  },
  "language_info": {
   "codemirror_mode": {
    "name": "ipython",
    "version": 3
   },
   "file_extension": ".py",
   "mimetype": "text/x-python",
   "name": "python",
   "nbconvert_exporter": "python",
   "pygments_lexer": "ipython3",
   "version": "3.9.7"
  }
 },
 "nbformat": 4,
 "nbformat_minor": 5
}
